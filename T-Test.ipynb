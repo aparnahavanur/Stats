{
 "cells": [
  {
   "cell_type": "markdown",
   "id": "151d812d",
   "metadata": {},
   "source": [
    "# Performing T-test"
   ]
  },
  {
   "cell_type": "code",
   "execution_count": 2,
   "id": "e18ff080",
   "metadata": {},
   "outputs": [],
   "source": [
    "# T-Test\n",
    "# T test is a type of inferential statistic which is used to determine if there is \n",
    "# significant difference between the means of two groups(samples) which are related in certain features.\n",
    "# T-test types\n",
    "# One Sample T-test-It tells us whether there is a difference between sample mean and poupulation mean\n",
    "# Two Sample T-test-It compares the means of two groups to statistically intfer if there is a \n",
    "# significant difference in the associated population means\n",
    "#please note: Kindly google the formula :-)"
   ]
  },
  {
   "cell_type": "code",
   "execution_count": 4,
   "id": "6c79f357",
   "metadata": {},
   "outputs": [
    {
     "data": {
      "text/plain": [
       "['sepal length (cm)',\n",
       " 'sepal width (cm)',\n",
       " 'petal length (cm)',\n",
       " 'petal width (cm)']"
      ]
     },
     "execution_count": 4,
     "metadata": {},
     "output_type": "execute_result"
    }
   ],
   "source": [
    "#I am taking iris dataset to perform ttest on sepal length\n",
    "import numpy as np\n",
    "import pandas as pd\n",
    "from sklearn.datasets import load_iris\n",
    "iris=load_iris()\n",
    "iris.feature_names"
   ]
  },
  {
   "cell_type": "code",
   "execution_count": 6,
   "id": "3b0fd940",
   "metadata": {},
   "outputs": [],
   "source": [
    "#load the dataframe\n",
    "df=pd.DataFrame(data=iris.data,columns=iris.feature_names)"
   ]
  },
  {
   "cell_type": "code",
   "execution_count": 7,
   "id": "459e4824",
   "metadata": {},
   "outputs": [
    {
     "data": {
      "text/html": [
       "<div>\n",
       "<style scoped>\n",
       "    .dataframe tbody tr th:only-of-type {\n",
       "        vertical-align: middle;\n",
       "    }\n",
       "\n",
       "    .dataframe tbody tr th {\n",
       "        vertical-align: top;\n",
       "    }\n",
       "\n",
       "    .dataframe thead th {\n",
       "        text-align: right;\n",
       "    }\n",
       "</style>\n",
       "<table border=\"1\" class=\"dataframe\">\n",
       "  <thead>\n",
       "    <tr style=\"text-align: right;\">\n",
       "      <th></th>\n",
       "      <th>sepal length (cm)</th>\n",
       "      <th>sepal width (cm)</th>\n",
       "      <th>petal length (cm)</th>\n",
       "      <th>petal width (cm)</th>\n",
       "    </tr>\n",
       "  </thead>\n",
       "  <tbody>\n",
       "    <tr>\n",
       "      <th>0</th>\n",
       "      <td>5.1</td>\n",
       "      <td>3.5</td>\n",
       "      <td>1.4</td>\n",
       "      <td>0.2</td>\n",
       "    </tr>\n",
       "    <tr>\n",
       "      <th>1</th>\n",
       "      <td>4.9</td>\n",
       "      <td>3.0</td>\n",
       "      <td>1.4</td>\n",
       "      <td>0.2</td>\n",
       "    </tr>\n",
       "    <tr>\n",
       "      <th>2</th>\n",
       "      <td>4.7</td>\n",
       "      <td>3.2</td>\n",
       "      <td>1.3</td>\n",
       "      <td>0.2</td>\n",
       "    </tr>\n",
       "    <tr>\n",
       "      <th>3</th>\n",
       "      <td>4.6</td>\n",
       "      <td>3.1</td>\n",
       "      <td>1.5</td>\n",
       "      <td>0.2</td>\n",
       "    </tr>\n",
       "    <tr>\n",
       "      <th>4</th>\n",
       "      <td>5.0</td>\n",
       "      <td>3.6</td>\n",
       "      <td>1.4</td>\n",
       "      <td>0.2</td>\n",
       "    </tr>\n",
       "  </tbody>\n",
       "</table>\n",
       "</div>"
      ],
      "text/plain": [
       "   sepal length (cm)  sepal width (cm)  petal length (cm)  petal width (cm)\n",
       "0                5.1               3.5                1.4               0.2\n",
       "1                4.9               3.0                1.4               0.2\n",
       "2                4.7               3.2                1.3               0.2\n",
       "3                4.6               3.1                1.5               0.2\n",
       "4                5.0               3.6                1.4               0.2"
      ]
     },
     "execution_count": 7,
     "metadata": {},
     "output_type": "execute_result"
    }
   ],
   "source": [
    "df.head()"
   ]
  },
  {
   "cell_type": "code",
   "execution_count": 8,
   "id": "2f36fc46",
   "metadata": {},
   "outputs": [
    {
     "data": {
      "text/plain": [
       "(150, 4)"
      ]
     },
     "execution_count": 8,
     "metadata": {},
     "output_type": "execute_result"
    }
   ],
   "source": [
    "df.shape"
   ]
  },
  {
   "cell_type": "code",
   "execution_count": 9,
   "id": "5f040137",
   "metadata": {},
   "outputs": [
    {
     "data": {
      "text/html": [
       "<div>\n",
       "<style scoped>\n",
       "    .dataframe tbody tr th:only-of-type {\n",
       "        vertical-align: middle;\n",
       "    }\n",
       "\n",
       "    .dataframe tbody tr th {\n",
       "        vertical-align: top;\n",
       "    }\n",
       "\n",
       "    .dataframe thead th {\n",
       "        text-align: right;\n",
       "    }\n",
       "</style>\n",
       "<table border=\"1\" class=\"dataframe\">\n",
       "  <thead>\n",
       "    <tr style=\"text-align: right;\">\n",
       "      <th></th>\n",
       "      <th>sepal length (cm)</th>\n",
       "      <th>sepal width (cm)</th>\n",
       "      <th>petal length (cm)</th>\n",
       "      <th>petal width (cm)</th>\n",
       "    </tr>\n",
       "  </thead>\n",
       "  <tbody>\n",
       "    <tr>\n",
       "      <th>count</th>\n",
       "      <td>150.000000</td>\n",
       "      <td>150.000000</td>\n",
       "      <td>150.000000</td>\n",
       "      <td>150.000000</td>\n",
       "    </tr>\n",
       "    <tr>\n",
       "      <th>mean</th>\n",
       "      <td>5.843333</td>\n",
       "      <td>3.057333</td>\n",
       "      <td>3.758000</td>\n",
       "      <td>1.199333</td>\n",
       "    </tr>\n",
       "    <tr>\n",
       "      <th>std</th>\n",
       "      <td>0.828066</td>\n",
       "      <td>0.435866</td>\n",
       "      <td>1.765298</td>\n",
       "      <td>0.762238</td>\n",
       "    </tr>\n",
       "    <tr>\n",
       "      <th>min</th>\n",
       "      <td>4.300000</td>\n",
       "      <td>2.000000</td>\n",
       "      <td>1.000000</td>\n",
       "      <td>0.100000</td>\n",
       "    </tr>\n",
       "    <tr>\n",
       "      <th>25%</th>\n",
       "      <td>5.100000</td>\n",
       "      <td>2.800000</td>\n",
       "      <td>1.600000</td>\n",
       "      <td>0.300000</td>\n",
       "    </tr>\n",
       "    <tr>\n",
       "      <th>50%</th>\n",
       "      <td>5.800000</td>\n",
       "      <td>3.000000</td>\n",
       "      <td>4.350000</td>\n",
       "      <td>1.300000</td>\n",
       "    </tr>\n",
       "    <tr>\n",
       "      <th>75%</th>\n",
       "      <td>6.400000</td>\n",
       "      <td>3.300000</td>\n",
       "      <td>5.100000</td>\n",
       "      <td>1.800000</td>\n",
       "    </tr>\n",
       "    <tr>\n",
       "      <th>max</th>\n",
       "      <td>7.900000</td>\n",
       "      <td>4.400000</td>\n",
       "      <td>6.900000</td>\n",
       "      <td>2.500000</td>\n",
       "    </tr>\n",
       "  </tbody>\n",
       "</table>\n",
       "</div>"
      ],
      "text/plain": [
       "       sepal length (cm)  sepal width (cm)  petal length (cm)  \\\n",
       "count         150.000000        150.000000         150.000000   \n",
       "mean            5.843333          3.057333           3.758000   \n",
       "std             0.828066          0.435866           1.765298   \n",
       "min             4.300000          2.000000           1.000000   \n",
       "25%             5.100000          2.800000           1.600000   \n",
       "50%             5.800000          3.000000           4.350000   \n",
       "75%             6.400000          3.300000           5.100000   \n",
       "max             7.900000          4.400000           6.900000   \n",
       "\n",
       "       petal width (cm)  \n",
       "count        150.000000  \n",
       "mean           1.199333  \n",
       "std            0.762238  \n",
       "min            0.100000  \n",
       "25%            0.300000  \n",
       "50%            1.300000  \n",
       "75%            1.800000  \n",
       "max            2.500000  "
      ]
     },
     "execution_count": 9,
     "metadata": {},
     "output_type": "execute_result"
    }
   ],
   "source": [
    "df.describe()"
   ]
  },
  {
   "cell_type": "code",
   "execution_count": 10,
   "id": "1d84cae0",
   "metadata": {},
   "outputs": [],
   "source": [
    "# Performing one sample T-test\n",
    "# take sepal length as a population and randomly choose 100 samples for test\n",
    "# #population of sepal length is stored in a list named sepal_length\n",
    "sepal_length=df['sepal length (cm)']"
   ]
  },
  {
   "cell_type": "code",
   "execution_count": 14,
   "id": "1bfcf5f5",
   "metadata": {},
   "outputs": [
    {
     "name": "stdout",
     "output_type": "stream",
     "text": [
      "5.1\n"
     ]
    },
    {
     "data": {
      "text/plain": [
       "150"
      ]
     },
     "execution_count": 14,
     "metadata": {},
     "output_type": "execute_result"
    }
   ],
   "source": [
    "print(sepal_length[0])\n",
    "len(sepal_length)"
   ]
  },
  {
   "cell_type": "code",
   "execution_count": 15,
   "id": "57943e9d",
   "metadata": {},
   "outputs": [],
   "source": [
    "#take 50 random samples from sepal_length list\n",
    "sample_sepal_length_size=50\n",
    "sepal_length_sample=np.random.choice(sepal_length,sample_sepal_length_size)\n"
   ]
  },
  {
   "cell_type": "code",
   "execution_count": 21,
   "id": "2a3c5543",
   "metadata": {},
   "outputs": [
    {
     "name": "stdout",
     "output_type": "stream",
     "text": [
      "[7.4 6.8 6.5 6.6 5.1 6.2 6.5 5.  7.3 5.6 5.8 5.2 5.  5.  6.7 6.2 6.  6.4\n",
      " 4.8 5.  6.9 7.7 5.1 6.4 5.3 6.6 5.7 6.3 5.7 6.1 6.1 5.  7.9 6.8 5.6 5.5\n",
      " 6.7 5.6 5.4 6.4 4.7 6.1 5.9 6.4 5.5 5.8 6.2 5.4 5.5 5.4]\n"
     ]
    }
   ],
   "source": [
    "print(sepal_length_sample)"
   ]
  },
  {
   "cell_type": "code",
   "execution_count": 22,
   "id": "0c86cd57",
   "metadata": {},
   "outputs": [
    {
     "name": "stdout",
     "output_type": "stream",
     "text": [
      "5.843333333333334\n",
      "5.975999999999999\n"
     ]
    }
   ],
   "source": [
    "#we know the mean of ppopulation: Sepal length in df.describe\n",
    "sepal_length_mean=np.mean(sepal_length)\n",
    "print(sepal_length_mean)\n",
    "sepal_length_sample_mean=np.mean(sepal_length_sample)\n",
    "print(sepal_length_sample_mean)"
   ]
  },
  {
   "cell_type": "code",
   "execution_count": 19,
   "id": "47344bc4",
   "metadata": {},
   "outputs": [],
   "source": [
    "#import ttest for one sample from scipy.stats\n",
    "from scipy.stats import ttest_1samp\n",
    "ttest,p_value=ttest_1samp(sepal_length_sample,5.8)\n"
   ]
  },
  {
   "cell_type": "markdown",
   "id": "d38830be",
   "metadata": {},
   "source": [
    "ttest: This variable will store the t-statistic calculated from the one-sample t-test. The t-statistic is a measure of how many standard deviations the sample mean is from the hypothetical mean (in this case, 5.8).\n",
    "\n",
    "p_value: This variable will store the p-value associated with the t-statistic. The p-value indicates the probability of obtaining the observed results (or more extreme) if the null hypothesis is true. In this context, a lower p-value suggests stronger evidence against the null hypothesis.\n",
    "\n",
    "ttest_1samp(): This function is part of the scipy.stats module in Python and is used for conducting a one-sample t-test. It takes two main arguments:\n",
    "\n",
    "The sample data (sepal_length_sample): This is the data for which you want to test the mean.\n",
    "The hypothetical mean (5.8): This is the mean under the null hypothesis.\n",
    "The result of the t-test, including the t-statistic and p-value, will be stored in ttest and p_value variables, respectively.\n",
    "\n",
    "In summary, this line of code performs a one-sample t-test on the sepal_length_sample, comparing its mean to a hypothetical mean of 5.8, and stores the calculated t-statistic and p-value for further analysis or interpretation."
   ]
  },
  {
   "cell_type": "code",
   "execution_count": 20,
   "id": "5c371cfc",
   "metadata": {},
   "outputs": [
    {
     "name": "stdout",
     "output_type": "stream",
     "text": [
      "0.11064685962542231\n"
     ]
    }
   ],
   "source": [
    "print(p_value)"
   ]
  },
  {
   "cell_type": "code",
   "execution_count": null,
   "id": "a49ca5c2",
   "metadata": {},
   "outputs": [],
   "source": [
    "If p_value<0.05---->we reject the null hypothesis\n",
    "here null hypotesis says there is no significant difference between the mean of the sample \n",
    "and mean of the population\n",
    "\n",
    "Since 0.11 is not less than 0.05 we accept the null hypothesis\n",
    "\n",
    "Please note: 0.05 is a significance value defined by domain expert"
   ]
  },
  {
   "cell_type": "code",
   "execution_count": 23,
   "id": "7b57faab",
   "metadata": {},
   "outputs": [
    {
     "data": {
      "text/plain": [
       "(150,)"
      ]
     },
     "execution_count": 23,
     "metadata": {},
     "output_type": "execute_result"
    }
   ],
   "source": [
    "#Two sample T test\n",
    "#Let us consider Petal length and Sepal Length as two sapmes and perform ttest on the same\n",
    "Petal_length=df['petal length (cm)']\n",
    "Sepal_length=df['sepal length (cm)']\n",
    "Petal_length.shape"
   ]
  },
  {
   "cell_type": "code",
   "execution_count": 24,
   "id": "5b7b718b",
   "metadata": {},
   "outputs": [
    {
     "data": {
      "text/plain": [
       "(150,)"
      ]
     },
     "execution_count": 24,
     "metadata": {},
     "output_type": "execute_result"
    }
   ],
   "source": [
    "Sepal_length.shape"
   ]
  },
  {
   "cell_type": "code",
   "execution_count": 25,
   "id": "09009651",
   "metadata": {},
   "outputs": [],
   "source": [
    "#import the statistics and maths libraries\n",
    "import scipy.stats as stats\n",
    "import math\n",
    "_,p_value=stats.ttest_ind(a=Petal_length,b=Sepal_length,equal_var=False)"
   ]
  },
  {
   "cell_type": "markdown",
   "id": "8990adc7",
   "metadata": {},
   "source": [
    "In summary, this line of code performs an independent two-sample t-test comparing the means \n",
    "of the heights in Petal_length and Sepal_length, \n",
    "and it stores the calculated p-value for further analysis or interpretation. \n",
    "The assumption of unequal variances is specified using equal_var=False."
   ]
  },
  {
   "cell_type": "code",
   "execution_count": 26,
   "id": "c99a383a",
   "metadata": {},
   "outputs": [
    {
     "data": {
      "text/plain": [
       "4.2621732726319293e-29"
      ]
     },
     "execution_count": 26,
     "metadata": {},
     "output_type": "execute_result"
    }
   ],
   "source": [
    "p_value"
   ]
  },
  {
   "cell_type": "markdown",
   "id": "4705824b",
   "metadata": {},
   "source": [
    "Here p_value is very very less p<<0.05, hence we reject null hypothesis\n",
    "Null hypothesis in this two samples test specifies whether the means of Petal length and Sepal length are associated"
   ]
  },
  {
   "cell_type": "code",
   "execution_count": null,
   "id": "607b4cfd",
   "metadata": {},
   "outputs": [],
   "source": []
  }
 ],
 "metadata": {
  "kernelspec": {
   "display_name": "Python 3 (ipykernel)",
   "language": "python",
   "name": "python3"
  },
  "language_info": {
   "codemirror_mode": {
    "name": "ipython",
    "version": 3
   },
   "file_extension": ".py",
   "mimetype": "text/x-python",
   "name": "python",
   "nbconvert_exporter": "python",
   "pygments_lexer": "ipython3",
   "version": "3.11.4"
  }
 },
 "nbformat": 4,
 "nbformat_minor": 5
}
